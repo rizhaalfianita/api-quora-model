{
 "cells": [
  {
   "cell_type": "code",
   "execution_count": 1,
   "metadata": {},
   "outputs": [],
   "source": [
    "import pickle\n",
    "f = open('tfidf.pickle', 'rb')\n",
    "tfidf = pickle.load(f)\n",
    "f.close()"
   ]
  },
  {
   "cell_type": "code",
   "execution_count": 2,
   "metadata": {},
   "outputs": [],
   "source": [
    "f = open('mnb.pickle', 'rb')\n",
    "mnb = pickle.load(f)\n",
    "f.close()"
   ]
  },
  {
   "cell_type": "code",
   "execution_count": 3,
   "metadata": {},
   "outputs": [
    {
     "name": "stdout",
     "output_type": "stream",
     "text": [
      "1\n",
      "0\n"
     ]
    }
   ],
   "source": [
    "from tkinter import *\n",
    "from preprocessing import preprocessing_text_with_stemming\n",
    "\n",
    "w = Tk()\n",
    "def center_window(window, width, height):\n",
    "    screen_width = window.winfo_screenwidth()\n",
    "    screen_height = window.winfo_screenheight()\n",
    "\n",
    "    x = (screen_width - width) // 2\n",
    "    y = (screen_height - height) // 2\n",
    "\n",
    "    window.geometry(f'{width}x{height}+{x}+{y}')\n",
    "\n",
    "window_width = 400\n",
    "window_height = 400\n",
    "\n",
    "center_window(w, window_width, window_height)\n",
    "\n",
    "w.geometry('400x200')\n",
    "w.title(\"Insincere Question Detection\")\n",
    "\n",
    "Label(w, text=\"Insincere Question Detection\", font=(\"TkDefaultFont\", 14, \"bold\")).pack()\n",
    "\n",
    "def predict():\n",
    "    text = entry.get()\n",
    "    preprocessed_text = preprocessing_text_with_stemming(text)\n",
    "    transformed_input = tfidf.transform_tfidf([' '.join(preprocessed_text)])\n",
    "    predicted_class = mnb.predict(transformed_input)[0]\n",
    "    label = \"Sincere\" if predicted_class == 0 else \"Insincere\"\n",
    "    print(predicted_class)\n",
    "    result_label.config(text=f\"{label}\", font=(\"TkDefaultFont\", 12, \"bold\"))\n",
    "\n",
    "entry = Entry(w, width = 50)\n",
    "entry.pack()\n",
    "\n",
    "Button(w, text=\"Predict\", command=predict).pack()\n",
    "Label(w, text=\"Predicted Class\").pack()\n",
    "result_label = Label(w, text=\"0\")\n",
    "result_label.pack()\n",
    "w.mainloop()"
   ]
  }
 ],
 "metadata": {
  "kernelspec": {
   "display_name": "Python 3",
   "language": "python",
   "name": "python3"
  },
  "language_info": {
   "codemirror_mode": {
    "name": "ipython",
    "version": 3
   },
   "file_extension": ".py",
   "mimetype": "text/x-python",
   "name": "python",
   "nbconvert_exporter": "python",
   "pygments_lexer": "ipython3",
   "version": "3.10.7"
  }
 },
 "nbformat": 4,
 "nbformat_minor": 2
}

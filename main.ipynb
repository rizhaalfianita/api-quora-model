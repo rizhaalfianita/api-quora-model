{
 "cells": [
  {
   "cell_type": "code",
   "execution_count": 1,
   "metadata": {},
   "outputs": [
    {
     "data": {
      "text/html": [
       "<div>\n",
       "<style scoped>\n",
       "    .dataframe tbody tr th:only-of-type {\n",
       "        vertical-align: middle;\n",
       "    }\n",
       "\n",
       "    .dataframe tbody tr th {\n",
       "        vertical-align: top;\n",
       "    }\n",
       "\n",
       "    .dataframe thead th {\n",
       "        text-align: right;\n",
       "    }\n",
       "</style>\n",
       "<table border=\"1\" class=\"dataframe\">\n",
       "  <thead>\n",
       "    <tr style=\"text-align: right;\">\n",
       "      <th></th>\n",
       "      <th>qid</th>\n",
       "      <th>question_text</th>\n",
       "      <th>target</th>\n",
       "    </tr>\n",
       "  </thead>\n",
       "  <tbody>\n",
       "    <tr>\n",
       "      <th>0</th>\n",
       "      <td>42b9446db515fcd253a7</td>\n",
       "      <td>What is the qualification for an animator or a...</td>\n",
       "      <td>0</td>\n",
       "    </tr>\n",
       "    <tr>\n",
       "      <th>1</th>\n",
       "      <td>bdad704204f8535e313a</td>\n",
       "      <td>Do different flavoured protein shakes have dif...</td>\n",
       "      <td>0</td>\n",
       "    </tr>\n",
       "    <tr>\n",
       "      <th>2</th>\n",
       "      <td>d13a0c498bf5a9cb2bc3</td>\n",
       "      <td>How does someone keep their children when they...</td>\n",
       "      <td>0</td>\n",
       "    </tr>\n",
       "    <tr>\n",
       "      <th>3</th>\n",
       "      <td>237828efb8348c39f14b</td>\n",
       "      <td>How much time required to learn Bollywood danc...</td>\n",
       "      <td>0</td>\n",
       "    </tr>\n",
       "    <tr>\n",
       "      <th>4</th>\n",
       "      <td>3c02e808603faa6ecc20</td>\n",
       "      <td>What skills can I have to fit in formulae one?</td>\n",
       "      <td>0</td>\n",
       "    </tr>\n",
       "    <tr>\n",
       "      <th>...</th>\n",
       "      <td>...</td>\n",
       "      <td>...</td>\n",
       "      <td>...</td>\n",
       "    </tr>\n",
       "    <tr>\n",
       "      <th>3995</th>\n",
       "      <td>8e636f1fb48158100adc</td>\n",
       "      <td>In ancient China, there was nothing other than...</td>\n",
       "      <td>1</td>\n",
       "    </tr>\n",
       "    <tr>\n",
       "      <th>3996</th>\n",
       "      <td>bffed8f6e8fec61187b5</td>\n",
       "      <td>I have a 3 inch penis, can I fuck a lot's girls?</td>\n",
       "      <td>1</td>\n",
       "    </tr>\n",
       "    <tr>\n",
       "      <th>3997</th>\n",
       "      <td>324670fdf6a9ba5cc019</td>\n",
       "      <td>Are all blacks from Haiti?</td>\n",
       "      <td>1</td>\n",
       "    </tr>\n",
       "    <tr>\n",
       "      <th>3998</th>\n",
       "      <td>e74c62301253bbc32563</td>\n",
       "      <td>Why are questions demonizing Israel okay but a...</td>\n",
       "      <td>1</td>\n",
       "    </tr>\n",
       "    <tr>\n",
       "      <th>3999</th>\n",
       "      <td>19e2f3c714a93f9003c0</td>\n",
       "      <td>Who do you consider to be the most seducing Je...</td>\n",
       "      <td>1</td>\n",
       "    </tr>\n",
       "  </tbody>\n",
       "</table>\n",
       "<p>4000 rows × 3 columns</p>\n",
       "</div>"
      ],
      "text/plain": [
       "                       qid                                      question_text  \\\n",
       "0     42b9446db515fcd253a7  What is the qualification for an animator or a...   \n",
       "1     bdad704204f8535e313a  Do different flavoured protein shakes have dif...   \n",
       "2     d13a0c498bf5a9cb2bc3  How does someone keep their children when they...   \n",
       "3     237828efb8348c39f14b  How much time required to learn Bollywood danc...   \n",
       "4     3c02e808603faa6ecc20     What skills can I have to fit in formulae one?   \n",
       "...                    ...                                                ...   \n",
       "3995  8e636f1fb48158100adc  In ancient China, there was nothing other than...   \n",
       "3996  bffed8f6e8fec61187b5   I have a 3 inch penis, can I fuck a lot's girls?   \n",
       "3997  324670fdf6a9ba5cc019                         Are all blacks from Haiti?   \n",
       "3998  e74c62301253bbc32563  Why are questions demonizing Israel okay but a...   \n",
       "3999  19e2f3c714a93f9003c0  Who do you consider to be the most seducing Je...   \n",
       "\n",
       "      target  \n",
       "0          0  \n",
       "1          0  \n",
       "2          0  \n",
       "3          0  \n",
       "4          0  \n",
       "...      ...  \n",
       "3995       1  \n",
       "3996       1  \n",
       "3997       1  \n",
       "3998       1  \n",
       "3999       1  \n",
       "\n",
       "[4000 rows x 3 columns]"
      ]
     },
     "execution_count": 1,
     "metadata": {},
     "output_type": "execute_result"
    }
   ],
   "source": [
    "import pandas as pd\n",
    "\n",
    "fix_file = \"dataset/fix_data.csv\"\n",
    "fix_df = pd.read_csv(fix_file)\n",
    "fix_df"
   ]
  },
  {
   "cell_type": "code",
   "execution_count": 2,
   "metadata": {},
   "outputs": [],
   "source": [
    "from preprocessing import preprocessing_text_with_stemming\n",
    "fix_df['preprocessed_text'] = fix_df['question_text'].apply(preprocessing_text_with_stemming)"
   ]
  },
  {
   "cell_type": "code",
   "execution_count": 3,
   "metadata": {},
   "outputs": [],
   "source": [
    "X = fix_df['preprocessed_text'].apply(lambda x: ' '.join(x))\n",
    "y = fix_df['target']"
   ]
  },
  {
   "cell_type": "markdown",
   "metadata": {},
   "source": [
    "**SPLITTING DATASET 90:10**"
   ]
  },
  {
   "cell_type": "code",
   "execution_count": 4,
   "metadata": {},
   "outputs": [
    {
     "name": "stdout",
     "output_type": "stream",
     "text": [
      "(3200,)\n",
      "(800,)\n"
     ]
    }
   ],
   "source": [
    "from sklearn.model_selection import train_test_split\n",
    "\n",
    "X_train, X_test, y_train, y_test = train_test_split(X, y, test_size=0.2, random_state=30)\n",
    "print(X_train.shape)\n",
    "print(X_test.shape)"
   ]
  },
  {
   "cell_type": "code",
   "execution_count": 5,
   "metadata": {},
   "outputs": [],
   "source": [
    "X_train_list = X_train.tolist()\n",
    "X_test_list = X_test.tolist()\n",
    "\n",
    "from TFIDFVectorizer import TFIDF\n",
    "tfidf_vectorizer = TFIDF(X_train_list)\n",
    "X_train_tfidf = tfidf_vectorizer.transform_tfidf(X_train_list)\n",
    "X_test_tfidf = tfidf_vectorizer.transform_tfidf(X_test_list)"
   ]
  },
  {
   "cell_type": "code",
   "execution_count": 6,
   "metadata": {},
   "outputs": [],
   "source": [
    "from MultinomialNB import MultinomialNB\n",
    "mnb = MultinomialNB()\n",
    "mnb.fit(X_train_tfidf, y_train)\n",
    "y_pred = mnb.predict(X_test_tfidf)"
   ]
  },
  {
   "cell_type": "code",
   "execution_count": 7,
   "metadata": {},
   "outputs": [
    {
     "name": "stdout",
     "output_type": "stream",
     "text": [
      "Confusion Matrix:\n",
      "[[307  71]\n",
      " [ 62 360]]\n",
      "\n",
      "Classification Report:\n",
      "              precision    recall  f1-score   support\n",
      "\n",
      "     Sincere       0.83      0.81      0.82       378\n",
      "   Insincere       0.84      0.85      0.84       422\n",
      "\n",
      "    accuracy                           0.83       800\n",
      "   macro avg       0.83      0.83      0.83       800\n",
      "weighted avg       0.83      0.83      0.83       800\n",
      "\n",
      "\n",
      "Accuracy: 0.83\n"
     ]
    }
   ],
   "source": [
    "from sklearn.metrics import classification_report, confusion_matrix, accuracy_score\n",
    "print(\"Confusion Matrix:\")\n",
    "print(confusion_matrix(y_test, y_pred))\n",
    "\n",
    "print(\"\\nClassification Report:\")\n",
    "print(classification_report(y_test, y_pred, target_names=['Sincere', 'Insincere']))\n",
    "\n",
    "accuracy = accuracy_score(y_test, y_pred)\n",
    "print(f\"\\nAccuracy: {accuracy:.2f}\")"
   ]
  },
  {
   "cell_type": "code",
   "execution_count": 13,
   "metadata": {},
   "outputs": [],
   "source": [
    "import pickle\n",
    "f = open('mnb.pickle', 'wb')\n",
    "pickle.dump(mnb, f)\n",
    "f.close()"
   ]
  },
  {
   "cell_type": "code",
   "execution_count": 14,
   "metadata": {},
   "outputs": [
    {
     "name": "stdout",
     "output_type": "stream",
     "text": [
      "Prior {0: 0.506875, 1: 0.493125}\n",
      "Likelihood {0: array([0.00021153, 0.0002574 , 0.00021153, ..., 0.00020347, 0.00017365,\n",
      "       0.0001996 ]), 1: array([0.00017365, 0.00025028, 0.00017365, ..., 0.00017365, 0.00018922,\n",
      "       0.00017365])}\n",
      "Posterior {0: 0.014959974480776326, 1: 0.010982505112331106}\n"
     ]
    }
   ],
   "source": [
    "text = \"What are the physiological effects of L-carnitine\"\n",
    "preprocessed_text = preprocessing_text_with_stemming(text)\n",
    "transformed_input = tfidf_vectorizer.transform_tfidf([' '.join(preprocessed_text)])\n",
    "mnb.predict(transformed_input)\n",
    "print(\"Prior\", mnb.prior)\n",
    "print(\"Likelihood\", mnb.likelihood)\n",
    "print(\"Posterior\", mnb.posteriors)"
   ]
  },
  {
   "cell_type": "code",
   "execution_count": 10,
   "metadata": {},
   "outputs": [],
   "source": [
    "# tfidf_sentence = [0] * len(preprocessed_text)\n",
    "# print(preprocessed_text)\n",
    "# print(len(tfidf_sentence))\n",
    "# for i, word in enumerate(preprocessed_text):\n",
    "#     for j, val in enumerate(tfidf_vectorizer.vocabulary):\n",
    "#         if val == word:\n",
    "#             tfidf_sentence[i] = transformed_input[0][j]\n",
    "# print(tfidf_sentence)"
   ]
  },
  {
   "cell_type": "code",
   "execution_count": 11,
   "metadata": {},
   "outputs": [],
   "source": [
    "# for i in transformed_input[0]:\n",
    "#     if i != 0:\n",
    "#         print(i)"
   ]
  },
  {
   "cell_type": "code",
   "execution_count": 12,
   "metadata": {},
   "outputs": [],
   "source": [
    "# words = ['saya', 'makan', 'nasi', 'padang']\n",
    "# vocab = ['saya', 'tidak', 'suka', 'nasi', 'padang', 'enak']\n",
    "# word_list = [0] * len(vocab)\n",
    "\n",
    "# for i, word in enumerate(words):\n",
    "#     for j, val in enumerate(vocab):\n",
    "#         if word == val:\n",
    "#             word_list[i] += 1\n",
    "\n",
    "# print(word_list)"
   ]
  }
 ],
 "metadata": {
  "kernelspec": {
   "display_name": "Python 3",
   "language": "python",
   "name": "python3"
  },
  "language_info": {
   "codemirror_mode": {
    "name": "ipython",
    "version": 3
   },
   "file_extension": ".py",
   "mimetype": "text/x-python",
   "name": "python",
   "nbconvert_exporter": "python",
   "pygments_lexer": "ipython3",
   "version": "3.10.7"
  }
 },
 "nbformat": 4,
 "nbformat_minor": 2
}
